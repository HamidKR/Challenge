{
 "cells": [
  {
   "cell_type": "code",
   "execution_count": null,
   "metadata": {
    "collapsed": false
   },
   "outputs": [],
   "source": [
    "from keras.models import Sequential\n",
    "from keras.layers.core import Dense, Dropout\n",
    "from keras.layers.recurrent import LSTM\n",
    "import numpy as np\n",
    "import pandas as pd\n",
    "import pandas_datareader.data as web\n",
    "import datetime as dt\n",
    "import matplotlib.pyplot as plt"
   ]
  },
  {
   "cell_type": "code",
   "execution_count": null,
   "metadata": {},
   "outputs": [],
   "source": [
    "start = dt.datetime(1995, 1, 1)\n",
    "end = dt.date.today()\n",
    "data = web.DataReader('CAT', 'quandl', start, end)\n",
    "\n",
    "\n",
    "data.drop(data.columns[[ 3, 4, 5, 6, 7, 8, 9, 11]], axis=1, inplace=True)\n",
    "\n",
    "\n",
    "\n",
    "\n",
    "main_data = pd.DataFrame()\n",
    "main_data = main_data.join(data, how='outer')\n",
    "print(main_data.head())\n",
    "\n",
    "\n",
    "main_data['Open'] = main_data['Open'] / 1000\n",
    "main_data['High'] = main_data['High'] / 1000\n",
    "main_data['Low'] = main_data['Low'] / 1000\n",
    "main_data['AdjClose'] = main_data['AdjClose'] / 1000\n",
    "main_data.head()"
   ]
  },
  {
   "cell_type": "code",
   "execution_count": null,
   "metadata": {},
   "outputs": [],
   "source": [
    "def loading_data(stock_data, sLen):\n",
    "    seqLen = sLen + 1\n",
    "    frame = []\n",
    "\n",
    "    data = stock_data.as_matrix()\n",
    "    for i in range(len(data) - seqLen):\n",
    "        frame.append(data[i: i + seqLen])\n",
    "\n",
    "    frame = np.array(frame)\n",
    "\n",
    "    split = round(0.95 * frame.shape[0])\n",
    "\n",
    "    train = frame[:int(split), :]\n",
    "    X_train = train[:, :-1]\n",
    "    Y_train = train[:, -1][:, -1]\n",
    "    X_test = frame[int(split):, :-1]\n",
    "    Y_test = frame[int(split):, -1][:, -1]\n",
    "\n",
    "\n",
    "    return [X_train, Y_train, X_test, Y_test]"
   ]
  },
  {
   "cell_type": "code",
   "execution_count": null,
   "metadata": {},
   "outputs": [],
   "source": [
    "def make_model(layers):\n",
    "    model_seq = Sequential()\n",
    "\n",
    "    model_seq.add(LSTM(120, input_shape=(layers[1], layers[0]), return_sequences=True))\n",
    "\n",
    "    model_seq.add(Dropout(.2))\n",
    "\n",
    "    model_seq.add(LSTM(60, input_shape=(layers[1], layers[0]), return_sequences=False))\n",
    "\n",
    "    model_seq.add(Dropout(.2))\n",
    "\n",
    "    model_seq.add(Dense(15, kernel_initializer='uniform', activation='relu'))\n",
    "    model_seq.add(Dense(layers[2], kernel_initializer='uniform', activation='relu'))\n",
    "\n",
    "    model_seq.compile(loss='mse', optimizer='adam', metrics=['mse', 'mape'])\n",
    "    return model_seq"
   ]
  },
  {
   "cell_type": "code",
   "execution_count": null,
   "metadata": {},
   "outputs": [],
   "source": [
    "plen = 5\n",
    "\n",
    "X_train, Y_train, X_test, Y_test = loading_data(main_data[::-1], plen)\n",
    "\n",
    "\n",
    "model = make_model([4, plen, 1])\n",
    "\n",
    "\n",
    "model.fit( X_train, Y_train, batch_size=500, epochs=500, validation_split=0.1, verbose=1)"
   ]
  },
  {
   "cell_type": "code",
   "execution_count": null,
   "metadata": {},
   "outputs": [],
   "source": [
    "train_eval = model.evaluate(X_train, Y_train, verbose=1)\n",
    "print(train_eval)\n",
    "print('Train MSE: %f MSE' % (train_eval[0],))\n",
    "\n",
    "test_eval = model.evaluate(X_test, Y_test, verbose=1)\n",
    "print(test_eval)\n",
    "print('Test MSE: %f MSE' % (test_eval[0]))\n"
   ]
  },
  {
   "cell_type": "code",
   "execution_count": null,
   "metadata": {},
   "outputs": [],
   "source": [
    "error = []\n",
    "prediction = model.predict(X_test)\n",
    "for i in range(len(prediction)):\n",
    "    prediction[i][0] = prediction[i][0]* 1000\n",
    "y_test_actual = Y_test * 1000\n",
    "\n",
    "for i in range(len(Y_test)):\n",
    "    error.append((y_test_actual[i] - prediction[i][0]) ** 2)\n",
    "totalErr = sum(error)\n",
    "mse = totalErr / len(Y_test)\n",
    "print(mse)"
   ]
  },
  {
   "cell_type": "code",
   "execution_count": null,
   "metadata": {},
   "outputs": [],
   "source": [
    "plt.plot(prediction, color='red', label='prediction')\n",
    "plt.plot(y_test_actual, color='blue', label='y_test')\n",
    "plt.legend(loc='lower right')\n",
    "plt.show()"
   ]
  }
 ],
 "metadata": {},
 "nbformat": 4,
 "nbformat_minor": 2
}
